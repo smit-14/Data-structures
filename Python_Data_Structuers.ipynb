{
  "nbformat": 4,
  "nbformat_minor": 0,
  "metadata": {
    "colab": {
      "provenance": []
    },
    "kernelspec": {
      "name": "python3",
      "display_name": "Python 3"
    },
    "language_info": {
      "name": "python"
    }
  },
  "cells": [
    {
      "cell_type": "markdown",
      "source": [
        "**DATA TYPES AND STRUCTURES QUESTIONS**"
      ],
      "metadata": {
        "id": "Rq_p-fe-Jc_p"
      }
    },
    {
      "cell_type": "markdown",
      "source": [
        "1. What are data structures, and why are they important?\n",
        ">Data structures are ways to organize and store data efficiently for easy access and modification. They are essential for optimizing performance, managing large data sets, and improving algorithm efficiency. Examples include lists, tuples, dictionaries, and sets.\n",
        "\n",
        "\n",
        "2.  Explain the difference between mutable and immutable data types with examples.\n",
        "    >In Python, data types are classified into mutable and immutable based on whether their values can be changed after creation.\n",
        "\n",
        "    >>Mutable Data Types\n",
        "\n",
        "    >>>Definition: Mutable data types allow modification after their creation. You can change their contents without changing their memory reference.ex:- List,Dictionary.\n",
        "\n",
        "    >>Immutable Data Types\n",
        "\n",
        "    >>>Definition: Immutable data types do not allow modification after creation. Any change results in a new object being created in memory.ex:- Tuple,String.\n",
        "  \n",
        "\n",
        "3. What are the main differences between lists and tuples in Python?\n",
        "  >Mutability:\n",
        "      Lists are mutable (can be modified).\n",
        "      Tuples are immutable (cannot be changed after creation).\n",
        "\n",
        "      >>Performance:\n",
        "      \n",
        "      >>>Tuples are faster than lists due to immutability.   \n",
        "      >>?Lists are slower because they support modifications.\n",
        "\n",
        "      >>Memory Usage:\n",
        "      \n",
        "      >>>Tuples use less memory and are more memory-efficient.\n",
        "      >>>Lists use more memory due to dynamic resizing.\n",
        "\n",
        "      >>Syntax:\n",
        "      \n",
        "        Lists: Defined using [] (square brackets).\n",
        "\n",
        "        Tuples: Defined using () (parentheses).\n",
        "\n",
        "      >>Use Cases:\n",
        "      \n",
        "      >>>Lists are used when data needs to change frequently.\n",
        "      >>>Tuples are used for fixed, unchangeable data.\n",
        "\n",
        "4. Describe how dictionaries store data.\n",
        "  >Dictionaries store data as key-value pairs using a hash table. Keys are hashed to unique indexes, making data retrieval fast.\n",
        "\n",
        "5. Why might you use a set instead of a list in Python?\n",
        "  >Faster lookups:\n",
        "  >>Sets use hashing (O(1) for lookups, vs. O(n) for lists).\n",
        "\n",
        "  >>Uniqueness: Sets automatically remove duplicates.\n",
        "\n",
        "6. What is a string in Python, and how is it different from a list?\n",
        "  >A string is a sequence of characters, immutable, and stored as a contiguous block in memory.\n",
        "  A list is a mutable collection of objects that can be modified.\n",
        "\n",
        "7. How do tuples ensure data integrity in Python?\n",
        "  >Tuples are immutable, meaning their values cannot be changed after creation. This prevents accidental modification, ensuring data integrity.\n",
        "\n",
        "8. What is a hash table, and how does it relate to dictionaries in Python?\n",
        "  > A hash table stores data as key-value pairs using a hash function for fast lookups. Python dictionaries are implemented using hash tables, making key retrieval efficient (O(1) time complexity).\n",
        "\n",
        "9. Can lists contain different data types in Python?\n",
        "  >Yes, lists can hold mixed data types.\n",
        "\n",
        "10. Why are strings immutable in Python?\n",
        "  >Improves performance and security.\n",
        "  Supports hashability for use as dictionary keys.\n",
        "  Prevents accidental modification.\n",
        "\n",
        "11. What advantages do dictionaries offer over lists for certain tasks?\n",
        "\n",
        "   > Faster lookups (O(1) vs. O(n)).\n",
        "\n",
        "   > Allows key-value pair storage.\n",
        "   \n",
        "   > More readable and structured data\n",
        "\n",
        "12.  Describe a scenario where using a tuple would be preferable over a list.\n",
        "\n",
        "    >When data should not change (e.g., storing coordinates (x, y)).\n",
        "\n",
        "    >When used as dictionary keys (tuples are hashable, lists are not).\n",
        "\n",
        "13. How do sets handle duplicate values in Python?\n",
        "\n",
        "    >Sets in Python automatically remove duplicate values because they are unordered collections of unique elements.\n",
        "\n",
        "    >>How It Works\n",
        "   >>> When elements are added to a set, Python uses a hashing mechanism to check for duplicates.If a duplicate value is detected, it is not added to the set.\n",
        "\n",
        "14. How does the “in” keyword work differently for lists and dictionaries?\n",
        "\n",
        "    >In a list, it checks values (O(n) complexity).\n",
        "\n",
        "    >In a dictionary, it checks keys (O(1) complexity).\n",
        "\n",
        "15. Can you modify elements of a tuple? Why or why not?\n",
        "\n",
        "    >No, tuples are immutable. Once created, elements cannot be modified.\n",
        "\n",
        "16. What is a nested dictionary, and give an example of its use case?\n",
        "\n",
        "    >A nested dictionary is a dictionary inside another dictionary. It allows hierarchical storage of data, making it useful for organizing complex data structures.\n",
        "\n",
        "    >>Use Case: Storing Student Records\n",
        "    >>>A school management system can use a nested dictionary to store details about multiple students, making it easy to retrieve and update information.\n",
        "\n",
        "17. Describe the time complexity of accessing elements in a dictionary?\n",
        "\n",
        "    >Accessing an element in a dictionary is O(1) (constant time), thanks to hash tables.\n",
        "\n",
        "18. In what situations are lists preferred over dictionaries?\n",
        "\n",
        "    >When order matters\n",
        "\n",
        "    >When storing sequences of values without key-value pairs\n",
        "\n",
        "    >When performing indexed access (O(1))\n",
        "\n",
        "19. Why are dictionaries considered unordered, and how does that affect data retrieval?\n",
        "    >Dictionaries are unordered before Python 3.7 (keys had no guaranteed order). Since Python 3.7, they maintain insertion order.However, retrieval is still based on hash keys, not index positions.\n",
        "\n",
        "20. Explain the difference between a list and a dictionary in terms of data retrieval.\n",
        "\n",
        "    >Access Mechanism:\n",
        "    >>Lists retrieve data by index, meaning you need to know the position of an element.\n",
        "\n",
        "    >>Dictionaries retrieve data by key, allowing direct access to values without searching.\n",
        "\n",
        "    >Retrieval Speed:\n",
        "    >>Lists have a linear search time (O(n)) if the element’s position is unknown.\n",
        "\n",
        "    >>Dictionaries use hashing, providing constant time lookup (O(1)).\n",
        "\n",
        "    >Best Use Case:\n",
        "    >>Lists are better for ordered collections and sequential access.\n",
        "\n",
        "    >>Dictionaries are better for fast lookups and key-value mappings."
      ],
      "metadata": {
        "id": "y-jyDAGjJpdh"
      }
    },
    {
      "cell_type": "markdown",
      "source": [
        "**PRACTICAL** **QUESTIONS**"
      ],
      "metadata": {
        "id": "V1fB0Vi9I8cS"
      }
    },
    {
      "cell_type": "markdown",
      "source": [
        "1. Write a code to create a string with your name and print it."
      ],
      "metadata": {
        "id": "uWcJF3tmB_Sy"
      }
    },
    {
      "cell_type": "code",
      "execution_count": null,
      "metadata": {
        "colab": {
          "base_uri": "https://localhost:8080/"
        },
        "id": "4PwuoqAgBUZW",
        "outputId": "2673d429-cb6d-4a28-83f5-3a72052a974b"
      },
      "outputs": [
        {
          "output_type": "stream",
          "name": "stdout",
          "text": [
            "Smit\n"
          ]
        }
      ],
      "source": [
        "name = \"Smit\"\n",
        "print(name)"
      ]
    },
    {
      "cell_type": "markdown",
      "source": [
        "2. Write a code to find the length of the string \"Hello World\"."
      ],
      "metadata": {
        "id": "aJiy-WwwB9a6"
      }
    },
    {
      "cell_type": "code",
      "source": [
        "string = \"Hello World\"\n",
        "length = len(string)\n",
        "print(length)"
      ],
      "metadata": {
        "colab": {
          "base_uri": "https://localhost:8080/"
        },
        "id": "Sw8lfARfD0OP",
        "outputId": "02821d49-4432-418b-e21c-730ec1f53c02"
      },
      "execution_count": null,
      "outputs": [
        {
          "output_type": "stream",
          "name": "stdout",
          "text": [
            "11\n"
          ]
        }
      ]
    },
    {
      "cell_type": "markdown",
      "source": [
        "3. Write a code to slice the first 3 characters from the string \"Python Programming\"."
      ],
      "metadata": {
        "id": "MjZ7xzhXEEAJ"
      }
    },
    {
      "cell_type": "code",
      "source": [
        "string = \"Python Programming\"\n",
        "sliced = string[:3]\n",
        "print(sliced)"
      ],
      "metadata": {
        "colab": {
          "base_uri": "https://localhost:8080/"
        },
        "id": "Ubr34H8fD2Ys",
        "outputId": "62d70fc0-db32-4c2c-d5fc-4f33bd77a2d8"
      },
      "execution_count": null,
      "outputs": [
        {
          "output_type": "stream",
          "name": "stdout",
          "text": [
            "Pyt\n"
          ]
        }
      ]
    },
    {
      "cell_type": "markdown",
      "source": [
        "4. Write a code to convert the string \"hello\" to uppercase."
      ],
      "metadata": {
        "id": "fTJ-ARCoEnyz"
      }
    },
    {
      "cell_type": "code",
      "source": [
        "string = \"hello\"\n",
        "uppercase_string = string.upper()\n",
        "print(uppercase_string)"
      ],
      "metadata": {
        "colab": {
          "base_uri": "https://localhost:8080/"
        },
        "id": "iPpVsmBYEryK",
        "outputId": "9ff690f4-2de2-41eb-b5b7-906272655147"
      },
      "execution_count": null,
      "outputs": [
        {
          "output_type": "stream",
          "name": "stdout",
          "text": [
            "HELLO\n"
          ]
        }
      ]
    },
    {
      "cell_type": "markdown",
      "source": [
        "5. Write a code to replace the word \"apple\" with \"orange\" in the string \"I like apple\"."
      ],
      "metadata": {
        "id": "X4TbCaN3Ews4"
      }
    },
    {
      "cell_type": "code",
      "source": [
        "string = \"I like apple\"\n",
        "modified_string = string.replace(\"apple\", \"orange\")\n",
        "print(modified_string)"
      ],
      "metadata": {
        "colab": {
          "base_uri": "https://localhost:8080/"
        },
        "id": "guiQvl4VEusJ",
        "outputId": "14d00aa3-073d-4193-856a-7aee2c42713e"
      },
      "execution_count": null,
      "outputs": [
        {
          "output_type": "stream",
          "name": "stdout",
          "text": [
            "I like orange\n"
          ]
        }
      ]
    },
    {
      "cell_type": "markdown",
      "source": [
        "6. Write a code to create a list with numbers 1 to 5 and print it."
      ],
      "metadata": {
        "id": "fGCks0IhE5qw"
      }
    },
    {
      "cell_type": "code",
      "source": [
        "numbers = [1, 2, 3, 4, 5]\n",
        "print(numbers)"
      ],
      "metadata": {
        "colab": {
          "base_uri": "https://localhost:8080/"
        },
        "id": "cPNRpXvWE3EI",
        "outputId": "659b5e54-683b-4fe4-e647-2c8ca98752af"
      },
      "execution_count": null,
      "outputs": [
        {
          "output_type": "stream",
          "name": "stdout",
          "text": [
            "[1, 2, 3, 4, 5]\n"
          ]
        }
      ]
    },
    {
      "cell_type": "markdown",
      "source": [
        "7. Write a code to append the number 10 to the list [1, 2, 3, 4]."
      ],
      "metadata": {
        "id": "P2UOxCh5FJ1w"
      }
    },
    {
      "cell_type": "code",
      "source": [
        "numbers = [1, 2, 3, 4]\n",
        "numbers.append(10)\n",
        "print(numbers)"
      ],
      "metadata": {
        "colab": {
          "base_uri": "https://localhost:8080/"
        },
        "id": "sTGUDDciFEx9",
        "outputId": "01a92dff-ac1e-4b63-b3d9-ff39789e874b"
      },
      "execution_count": null,
      "outputs": [
        {
          "output_type": "stream",
          "name": "stdout",
          "text": [
            "[1, 2, 3, 4, 10]\n"
          ]
        }
      ]
    },
    {
      "cell_type": "markdown",
      "source": [
        "8. Write a code to remove the number 3 from the list [1, 2, 3, 4, 5]."
      ],
      "metadata": {
        "id": "C8LbT_bVFSWQ"
      }
    },
    {
      "cell_type": "code",
      "source": [
        "numbers = [1, 2, 3, 4, 5]\n",
        "numbers.remove(3)\n",
        "print(numbers)"
      ],
      "metadata": {
        "colab": {
          "base_uri": "https://localhost:8080/"
        },
        "id": "BZeZr0p2FRbI",
        "outputId": "7bfda84b-04e8-4320-d0e0-1ff3471d5153"
      },
      "execution_count": null,
      "outputs": [
        {
          "output_type": "stream",
          "name": "stdout",
          "text": [
            "[1, 2, 4, 5]\n"
          ]
        }
      ]
    },
    {
      "cell_type": "markdown",
      "source": [
        "9.  Write a code to access the second element in the list ['a', 'b', 'c', 'd']."
      ],
      "metadata": {
        "id": "cwpkhBSSFZx4"
      }
    },
    {
      "cell_type": "code",
      "source": [
        "letters = ['a', 'b', 'c', 'd']\n",
        "second_element = letters[1]  # Indexing starts from 0\n",
        "print(second_element)"
      ],
      "metadata": {
        "colab": {
          "base_uri": "https://localhost:8080/"
        },
        "id": "DqtLwekPFOHg",
        "outputId": "b5859aa4-58ae-439f-9055-580aef5b791d"
      },
      "execution_count": null,
      "outputs": [
        {
          "output_type": "stream",
          "name": "stdout",
          "text": [
            "b\n"
          ]
        }
      ]
    },
    {
      "cell_type": "markdown",
      "source": [
        "10.  Write a code to reverse the list [10, 20, 30, 40, 50]."
      ],
      "metadata": {
        "id": "gRa-HhdVFh04"
      }
    },
    {
      "cell_type": "code",
      "source": [
        "numbers = [10, 20, 30, 40, 50]\n",
        "numbers.reverse()\n",
        "print(numbers)"
      ],
      "metadata": {
        "colab": {
          "base_uri": "https://localhost:8080/"
        },
        "id": "_ZGkWOR7FgHT",
        "outputId": "1e12f8d7-cd29-4f64-ffcd-d7fc9adca054"
      },
      "execution_count": null,
      "outputs": [
        {
          "output_type": "stream",
          "name": "stdout",
          "text": [
            "[50, 40, 30, 20, 10]\n"
          ]
        }
      ]
    },
    {
      "cell_type": "markdown",
      "source": [
        "11.  Write a code to create a tuple with the elements 100, 200, 300 and print it."
      ],
      "metadata": {
        "id": "3CfJYinpFwoH"
      }
    },
    {
      "cell_type": "code",
      "source": [
        "numbers = (100, 200, 300)\n",
        "print(numbers)"
      ],
      "metadata": {
        "colab": {
          "base_uri": "https://localhost:8080/"
        },
        "id": "5jhqU_CkFm6S",
        "outputId": "99f0cd67-976e-4c97-fe74-41f06d21f1b3"
      },
      "execution_count": null,
      "outputs": [
        {
          "output_type": "stream",
          "name": "stdout",
          "text": [
            "(100, 200, 300)\n"
          ]
        }
      ]
    },
    {
      "cell_type": "markdown",
      "source": [
        "12. Write a code to access the second-to-last element of the tuple ('red', 'green', 'blue', 'yellow')."
      ],
      "metadata": {
        "id": "Ux-QAQwuGAAH"
      }
    },
    {
      "cell_type": "code",
      "source": [
        "colors = ('red', 'green', 'blue', 'yellow')\n",
        "second_last = colors[-2]  # Negative indexing\n",
        "print(second_last)"
      ],
      "metadata": {
        "colab": {
          "base_uri": "https://localhost:8080/"
        },
        "id": "kt1CbNDCF7vZ",
        "outputId": "80a0d133-31e6-4cf8-fd81-aa77e5ca35dc"
      },
      "execution_count": null,
      "outputs": [
        {
          "output_type": "stream",
          "name": "stdout",
          "text": [
            "blue\n"
          ]
        }
      ]
    },
    {
      "cell_type": "markdown",
      "source": [
        "13. Write a code to find the minimum number in the tuple (10, 20, 5, 15)."
      ],
      "metadata": {
        "id": "BTeLLoy8GIhR"
      }
    },
    {
      "cell_type": "code",
      "source": [
        "numbers = (10, 20, 5, 15)\n",
        "min_number = min(numbers)\n",
        "print(min_number)"
      ],
      "metadata": {
        "colab": {
          "base_uri": "https://localhost:8080/"
        },
        "id": "ae2DR0PlGGNz",
        "outputId": "389b01d7-b251-4640-c52a-b2de9426d5a5"
      },
      "execution_count": null,
      "outputs": [
        {
          "output_type": "stream",
          "name": "stdout",
          "text": [
            "5\n"
          ]
        }
      ]
    },
    {
      "cell_type": "markdown",
      "source": [
        "14. Write a code to find the index of the element \"cat\" in the tuple ('dog', 'cat', 'rabbit')."
      ],
      "metadata": {
        "id": "bL20m2vnGUYI"
      }
    },
    {
      "cell_type": "code",
      "source": [
        "animals = ('dog', 'cat', 'rabbit')\n",
        "cat_index = animals.index('cat')\n",
        "print(cat_index)"
      ],
      "metadata": {
        "colab": {
          "base_uri": "https://localhost:8080/"
        },
        "id": "6nAavdKaGOiY",
        "outputId": "10cc43aa-e628-44ba-b49d-013c5333b255"
      },
      "execution_count": null,
      "outputs": [
        {
          "output_type": "stream",
          "name": "stdout",
          "text": [
            "1\n"
          ]
        }
      ]
    },
    {
      "cell_type": "markdown",
      "source": [
        "15. Write a code to create a tuple containing three different fruits and check if \"kiwi\" is in it."
      ],
      "metadata": {
        "id": "Yz6pCIptGb9J"
      }
    },
    {
      "cell_type": "code",
      "source": [
        "fruits = ('apple', 'banana', 'orange')\n",
        "if 'kiwi' in fruits:\n",
        "    print(\"Kiwi is in the tuple\")\n",
        "else:\n",
        "    print(\"Kiwi is not in the tuple\")"
      ],
      "metadata": {
        "colab": {
          "base_uri": "https://localhost:8080/"
        },
        "id": "88q4L1v7GY6R",
        "outputId": "a57d64c6-2a52-4125-f325-4b04d36480e7"
      },
      "execution_count": null,
      "outputs": [
        {
          "output_type": "stream",
          "name": "stdout",
          "text": [
            "Kiwi is not in the tuple\n"
          ]
        }
      ]
    },
    {
      "cell_type": "markdown",
      "source": [
        "16. Write a code to create a set with the elements 'a', 'b', 'c' and print it."
      ],
      "metadata": {
        "id": "uxshFQkWGl_g"
      }
    },
    {
      "cell_type": "code",
      "source": [
        "my_set = {'a', 'b', 'c'}\n",
        "print(my_set)"
      ],
      "metadata": {
        "colab": {
          "base_uri": "https://localhost:8080/"
        },
        "id": "cBhUteTrGgQO",
        "outputId": "e669fcaa-c0f6-4923-8771-fe0cae184835"
      },
      "execution_count": null,
      "outputs": [
        {
          "output_type": "stream",
          "name": "stdout",
          "text": [
            "{'c', 'a', 'b'}\n"
          ]
        }
      ]
    },
    {
      "cell_type": "markdown",
      "source": [
        "17. Write a code to clear all elements from the set {1, 2, 3, 4, 5}."
      ],
      "metadata": {
        "id": "O9daEwZ_G0HY"
      }
    },
    {
      "cell_type": "code",
      "source": [
        "numbers = {1, 2, 3, 4, 5}\n",
        "numbers.clear()\n",
        "print(numbers)  # Output will be an empty set: set()"
      ],
      "metadata": {
        "colab": {
          "base_uri": "https://localhost:8080/"
        },
        "id": "OWOv4l4vGuvF",
        "outputId": "538d2d09-b8a1-43e4-a21e-255e77591ca3"
      },
      "execution_count": null,
      "outputs": [
        {
          "output_type": "stream",
          "name": "stdout",
          "text": [
            "set()\n"
          ]
        }
      ]
    },
    {
      "cell_type": "markdown",
      "source": [
        "18. Write a code to remove the element 4 from the set {1, 2, 3, 4}."
      ],
      "metadata": {
        "id": "yX_R3xj2G9Ly"
      }
    },
    {
      "cell_type": "code",
      "source": [
        "numbers = {1, 2, 3, 4}\n",
        "numbers.remove(4)  # or use discard(4) to avoid errors if 4 is not in the set\n",
        "print(numbers)"
      ],
      "metadata": {
        "colab": {
          "base_uri": "https://localhost:8080/"
        },
        "id": "MpWTuOUdG4v8",
        "outputId": "d46615cc-bc97-4178-e157-446cfa2929c4"
      },
      "execution_count": null,
      "outputs": [
        {
          "output_type": "stream",
          "name": "stdout",
          "text": [
            "{1, 2, 3}\n"
          ]
        }
      ]
    },
    {
      "cell_type": "markdown",
      "source": [
        "19. Write a code to find the union of two sets {1, 2, 3} and {3, 4, 5}."
      ],
      "metadata": {
        "id": "Z4G8mMFlHElA"
      }
    },
    {
      "cell_type": "code",
      "source": [
        "set1 = {1, 2, 3}\n",
        "set2 = {3, 4, 5}\n",
        "union_set = set1.union(set2)  # or use set1 | set2\n",
        "print(union_set)"
      ],
      "metadata": {
        "colab": {
          "base_uri": "https://localhost:8080/"
        },
        "id": "MuGWslk4HA1j",
        "outputId": "b59a1d55-0bb5-44ee-8b6f-b1f21d46e28d"
      },
      "execution_count": null,
      "outputs": [
        {
          "output_type": "stream",
          "name": "stdout",
          "text": [
            "{1, 2, 3, 4, 5}\n"
          ]
        }
      ]
    },
    {
      "cell_type": "markdown",
      "source": [
        "20. Write a code to find the intersection of two sets {1, 2, 3} and {2, 3, 4}."
      ],
      "metadata": {
        "id": "x-3l3US_H-W4"
      }
    },
    {
      "cell_type": "code",
      "source": [
        "set1 = {1, 2, 3}\n",
        "set2 = {2, 3, 4}\n",
        "intersection_set = set1.intersection(set2)  # or use set1 & set2\n",
        "print(intersection_set)"
      ],
      "metadata": {
        "colab": {
          "base_uri": "https://localhost:8080/"
        },
        "id": "3RYjU9mmHG0F",
        "outputId": "4c04277a-cc76-4781-903d-474bae60faf4"
      },
      "execution_count": null,
      "outputs": [
        {
          "output_type": "stream",
          "name": "stdout",
          "text": [
            "{2, 3}\n"
          ]
        }
      ]
    },
    {
      "cell_type": "markdown",
      "source": [
        "21. Write a code to create a dictionary with the keys \"name\", \"age\", and \"city\", and print it."
      ],
      "metadata": {
        "id": "3dnEzMx0HQph"
      }
    },
    {
      "cell_type": "code",
      "source": [
        "person = {\"name\": \"krishna\", \"age\": 19, \"city\": \"Ahmedabad\"}\n",
        "print(person)"
      ],
      "metadata": {
        "colab": {
          "base_uri": "https://localhost:8080/"
        },
        "id": "mMQQp8UyHOVb",
        "outputId": "77791c37-4e4a-4243-912e-20a2021c1e85"
      },
      "execution_count": null,
      "outputs": [
        {
          "output_type": "stream",
          "name": "stdout",
          "text": [
            "{'name': 'krishna', 'age': 19, 'city': 'Ahmedabad'}\n"
          ]
        }
      ]
    },
    {
      "cell_type": "markdown",
      "source": [
        "22. Write a code to add a new key-value pair \"country\": \"USA\" to the dictionary {'name': 'John', 'age': 25}."
      ],
      "metadata": {
        "id": "xIPbzaogHiLg"
      }
    },
    {
      "cell_type": "code",
      "source": [
        "person = {'name': 'John', 'age': 25}\n",
        "person[\"country\"] = \"USA\"\n",
        "print(person)"
      ],
      "metadata": {
        "colab": {
          "base_uri": "https://localhost:8080/"
        },
        "id": "mlEmwpohHZB8",
        "outputId": "06861cc6-3c75-44db-99d5-218f991228e5"
      },
      "execution_count": null,
      "outputs": [
        {
          "output_type": "stream",
          "name": "stdout",
          "text": [
            "{'name': 'John', 'age': 25, 'country': 'USA'}\n"
          ]
        }
      ]
    },
    {
      "cell_type": "markdown",
      "source": [
        "23. Write a code to access the value associated with the key \"name\" in the dictionary {'name': 'Alice', 'age': 30}."
      ],
      "metadata": {
        "id": "DQjwhqd4HnhQ"
      }
    },
    {
      "cell_type": "code",
      "source": [
        "person = {'name': 'Alice', 'age': 30}\n",
        "name_value = person[\"name\"]\n",
        "print(name_value)"
      ],
      "metadata": {
        "colab": {
          "base_uri": "https://localhost:8080/"
        },
        "id": "M04hF5wgHlVu",
        "outputId": "68bf32e1-ba74-46c0-ed42-aa6ae61bb108"
      },
      "execution_count": null,
      "outputs": [
        {
          "output_type": "stream",
          "name": "stdout",
          "text": [
            "Alice\n"
          ]
        }
      ]
    },
    {
      "cell_type": "markdown",
      "source": [
        "24. Write a code to remove the key \"age\" from the dictionary {'name': 'Bob', 'age': 22, 'city': 'New York'}."
      ],
      "metadata": {
        "id": "F5CwRC4GHttA"
      }
    },
    {
      "cell_type": "code",
      "source": [
        "person = {'name': 'Bob', 'age': 22, 'city': 'New York'}\n",
        "del person[\"age\"]\n",
        "print(person)"
      ],
      "metadata": {
        "colab": {
          "base_uri": "https://localhost:8080/"
        },
        "id": "8uDviaEBHrL1",
        "outputId": "6804b5ba-0d54-4ea6-8cf0-a4a3cddd5bd0"
      },
      "execution_count": null,
      "outputs": [
        {
          "output_type": "stream",
          "name": "stdout",
          "text": [
            "{'name': 'Bob', 'city': 'New York'}\n"
          ]
        }
      ]
    },
    {
      "cell_type": "markdown",
      "source": [
        "25. Write a code to check if the key \"city\" exists in the dictionary {'name': 'Alice', 'city': 'Paris'}."
      ],
      "metadata": {
        "id": "nAuV9FSWHyBh"
      }
    },
    {
      "cell_type": "code",
      "source": [
        "person = {'name': 'Alice', 'city': 'Paris'}\n",
        "if \"city\" in person:\n",
        "    print(\"Key 'city' exists in the dictionary\")\n",
        "else:\n",
        "    print(\"Key 'city' does not exist in the dictionary\")"
      ],
      "metadata": {
        "colab": {
          "base_uri": "https://localhost:8080/"
        },
        "id": "wgPHo63jHwl8",
        "outputId": "f5fec809-e61c-409e-aff5-90d72ae26b85"
      },
      "execution_count": null,
      "outputs": [
        {
          "output_type": "stream",
          "name": "stdout",
          "text": [
            "Key 'city' exists in the dictionary\n"
          ]
        }
      ]
    },
    {
      "cell_type": "markdown",
      "source": [
        "26. Write a code to create a list, a tuple, and a dictionary, and print them all."
      ],
      "metadata": {
        "id": "2GvaGGNlIIwA"
      }
    },
    {
      "cell_type": "code",
      "source": [
        "my_list = [1, 2, 3, 4, 5]\n",
        "my_tuple = (10, 20, 30, 40, 50)\n",
        "my_dict = {\"name\": \"krishna\", \"age\": 19, \"city\": \"Ahmedabad\"}\n",
        "\n",
        "print(my_list)\n",
        "print(my_tuple)\n",
        "print(my_dict)"
      ],
      "metadata": {
        "colab": {
          "base_uri": "https://localhost:8080/"
        },
        "id": "tUMBj4AnH1AU",
        "outputId": "946abd23-d821-4abc-e780-4749b4982d60"
      },
      "execution_count": null,
      "outputs": [
        {
          "output_type": "stream",
          "name": "stdout",
          "text": [
            "[1, 2, 3, 4, 5]\n",
            "(10, 20, 30, 40, 50)\n",
            "{'name': 'krishna', 'age': 19, 'city': 'Ahmedabad'}\n"
          ]
        }
      ]
    },
    {
      "cell_type": "markdown",
      "source": [
        "27. Write a code to create a list of 5 random numbers between 1 and 100, sort it in ascending order, and print the\n",
        "result.(replaced)"
      ],
      "metadata": {
        "id": "mVfv1o2pIXH4"
      }
    },
    {
      "cell_type": "code",
      "source": [
        "import random\n",
        "\n",
        "random_numbers = [random.randint(1, 100) for _ in range(5)]\n",
        "random_numbers.sort()\n",
        "print(random_numbers)"
      ],
      "metadata": {
        "colab": {
          "base_uri": "https://localhost:8080/"
        },
        "id": "5bIj7vw5IV_J",
        "outputId": "f14ecd06-42ab-41c4-ec1e-2f1192233985"
      },
      "execution_count": null,
      "outputs": [
        {
          "output_type": "stream",
          "name": "stdout",
          "text": [
            "[17, 26, 38, 57, 79]\n"
          ]
        }
      ]
    },
    {
      "cell_type": "markdown",
      "source": [
        "28. Write a code to create a list with strings and print the element at the third index."
      ],
      "metadata": {
        "id": "gD-SahSwIoFq"
      }
    },
    {
      "cell_type": "code",
      "source": [
        "words = [\"apple\", \"banana\", \"cherry\", \"date\", \"elderberry\"]\n",
        "print(words[3])  # Index starts at 0, so the third index is the fourth element"
      ],
      "metadata": {
        "colab": {
          "base_uri": "https://localhost:8080/"
        },
        "id": "X5OZDrzhIlkU",
        "outputId": "9cde451f-4ce6-4c5a-f5f0-26014d67d659"
      },
      "execution_count": null,
      "outputs": [
        {
          "output_type": "stream",
          "name": "stdout",
          "text": [
            "date\n"
          ]
        }
      ]
    },
    {
      "cell_type": "markdown",
      "source": [
        "29. Write a code to combine two dictionaries into one and print the result."
      ],
      "metadata": {
        "id": "GASAEz4eIs_J"
      }
    },
    {
      "cell_type": "code",
      "source": [
        "dict1 = {\"a\": 1, \"b\": 2}\n",
        "dict2 = {\"c\": 3, \"d\": 4}\n",
        "\n",
        "combined_dict = {**dict1, **dict2}  # Merging using dictionary unpacking\n",
        "print(combined_dict)"
      ],
      "metadata": {
        "colab": {
          "base_uri": "https://localhost:8080/"
        },
        "id": "XOzog_1mIqOu",
        "outputId": "5b02c9ea-7e5a-4e78-f9da-45e8edd71a9d"
      },
      "execution_count": null,
      "outputs": [
        {
          "output_type": "stream",
          "name": "stdout",
          "text": [
            "{'a': 1, 'b': 2, 'c': 3, 'd': 4}\n"
          ]
        }
      ]
    },
    {
      "cell_type": "markdown",
      "source": [
        "30. Write a code to convert a list of strings into a set."
      ],
      "metadata": {
        "id": "Gp8rMWEEIxyH"
      }
    },
    {
      "cell_type": "code",
      "source": [
        "words_list = [\"apple\", \"banana\", \"cherry\", \"apple\", \"banana\"]\n",
        "words_set = set(words_list)\n",
        "print(words_set)  # Removes duplicates"
      ],
      "metadata": {
        "colab": {
          "base_uri": "https://localhost:8080/"
        },
        "id": "fiFSLocVIvjY",
        "outputId": "5d2cc079-c156-4c9b-c17a-9e266369246e"
      },
      "execution_count": null,
      "outputs": [
        {
          "output_type": "stream",
          "name": "stdout",
          "text": [
            "{'cherry', 'banana', 'apple'}\n"
          ]
        }
      ]
    }
  ]
}